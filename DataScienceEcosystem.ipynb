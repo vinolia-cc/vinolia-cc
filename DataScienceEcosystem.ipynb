{
 "cells": [
  {
   "cell_type": "markdown",
   "id": "6d779836-5ce7-40a6-9403-43930cbc1cad",
   "metadata": {},
   "source": [
    "# DataScience Tools and ecosystem #"
   ]
  },
  {
   "cell_type": "markdown",
   "id": "a8637af3-0f7b-4be0-a1a0-8fe3b7aa9eed",
   "metadata": {},
   "source": [
    "In this notebook,Data Science Tools and Ecosystem are summarized."
   ]
  },
  {
   "cell_type": "markdown",
   "id": "82e1d886-62ca-4a0a-84bc-f50c0301eb22",
   "metadata": {},
   "source": [
    "<b>Objectives:</b>\n",
    "* list popular languages for Data Science\n",
    "* Commonly used libraries used by DataScience\n",
    "* Data Science Tools\n",
    "* Some arithmetic expressions in python"
   ]
  },
  {
   "cell_type": "markdown",
   "id": "7c2b7b66-b030-47d3-bdd3-d7e6f1562d0b",
   "metadata": {},
   "source": [
    "some of the popular languages that Data scientists use are:\n",
    " 1. Python\n",
    " 2. SQL\n",
    " 3. R"
   ]
  },
  {
   "cell_type": "markdown",
   "id": "c140282e-8e12-4e84-83cc-d874a6aea722",
   "metadata": {},
   "source": [
    "Some of the commonly used libraries used by Data Scientists include:\n",
    "1. TensorFlow\n",
    "2. NumPy\n",
    "3. SciPy\n"
   ]
  },
  {
   "cell_type": "markdown",
   "id": "4fd21dbb-6b16-45b9-883d-203dbe980b40",
   "metadata": {},
   "source": [
    "|DataScience Tools|\n",
    "|:---------------:|\n",
    "|   Rstudio       |\n",
    "| Apache Spark    |\n",
    "|  Tensor Flow    |"
   ]
  },
  {
   "cell_type": "markdown",
   "id": "14a69909-5fb3-48a3-8fc9-49461a176216",
   "metadata": {},
   "source": [
    "### Below are few examples of evaluating arithmetic expressions in python ###\n",
    "* *\n",
    "* /\n",
    "* //"
   ]
  },
  {
   "cell_type": "code",
   "execution_count": 1,
   "id": "8f693b46-f229-4064-968d-d8c1722e0a95",
   "metadata": {
    "tags": []
   },
   "outputs": [
    {
     "data": {
      "text/plain": [
       "17"
      ]
     },
     "execution_count": 1,
     "metadata": {},
     "output_type": "execute_result"
    }
   ],
   "source": [
    "(3*4)+5\n",
    "# This is a simple arithmetic expression to multiply then add integers"
   ]
  },
  {
   "cell_type": "code",
   "execution_count": 2,
   "id": "4678b012-12c2-4e61-845e-1ebe592cb2c0",
   "metadata": {
    "tags": []
   },
   "outputs": [
    {
     "data": {
      "text/plain": [
       "3.3333333333333335"
      ]
     },
     "execution_count": 2,
     "metadata": {},
     "output_type": "execute_result"
    }
   ],
   "source": [
    "200/60\n",
    "# This will convert 200 minutes to hours by dividing by 60"
   ]
  },
  {
   "cell_type": "markdown",
   "id": "639058c0-eec8-475f-9fd8-c553cd3b2f26",
   "metadata": {},
   "source": [
    "## Author ##\n",
    "Vinolia"
   ]
  },
  {
   "cell_type": "code",
   "execution_count": null,
   "id": "4558ad37-6b63-4405-b9a3-d35807e40ca8",
   "metadata": {},
   "outputs": [],
   "source": []
  }
 ],
 "metadata": {
  "kernelspec": {
   "display_name": "Python",
   "language": "python",
   "name": "conda-env-python-py"
  },
  "language_info": {
   "codemirror_mode": {
    "name": "ipython",
    "version": 3
   },
   "file_extension": ".py",
   "mimetype": "text/x-python",
   "name": "python",
   "nbconvert_exporter": "python",
   "pygments_lexer": "ipython3",
   "version": "3.7.12"
  }
 },
 "nbformat": 4,
 "nbformat_minor": 5
}
